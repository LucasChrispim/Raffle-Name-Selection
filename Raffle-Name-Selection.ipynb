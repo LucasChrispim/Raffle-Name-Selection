{
 "cells": [
  {
   "cell_type": "markdown",
   "id": "2cbe676e-6382-41a4-a5dc-2459d66c9371",
   "metadata": {},
   "source": [
    "#### Library"
   ]
  },
  {
   "cell_type": "code",
   "execution_count": 2,
   "id": "f0f95b73-3c60-4ab1-9c5e-2a2eca3920e6",
   "metadata": {},
   "outputs": [],
   "source": [
    "import pandas as pd\n",
    "import secrets\n",
    "import tkinter as tk\n",
    "\n",
    "# Carregar o arquivo\n",
    "path = pd.read_csv(\"C:/Users/lucas.chrispim/Downloads/Old Laptop raffle 2025(Sheet1).csv\", skiprows=1)\n",
    "\n",
    "# Função para embaralhar com segurança\n",
    "def secure_shuffle(lst):\n",
    "    for i in range(len(lst) - 1, 0, -1):\n",
    "        j = secrets.randbelow(i + 1)\n",
    "        lst[i], lst[j] = lst[j], lst[i]\n",
    "\n",
    "# Configurações\n",
    "AUTO_DRAW_COUNT = 5\n",
    "names = path['Name'].dropna().tolist()\n",
    "secure_shuffle(names)\n",
    "\n",
    "# Lista para armazenar os sorteados\n",
    "winners = []\n",
    "\n",
    "# Função para exibir os nomes sorteados com delay\n",
    "def show_winner_step(i=0):\n",
    "    if i < min(AUTO_DRAW_COUNT, len(names)):\n",
    "        winner = names.pop(0)\n",
    "        winners.append(winner)  # armazenar vencedor\n",
    "        label.config(text=f\"🎉 Winner: {winner}\")\n",
    "        root.after(5000, lambda: show_winner_step(i + 1))  # próximo em 5 segundos\n",
    "    else:\n",
    "        # Mostrar todos os sorteados\n",
    "        final_text = \"✅ All winners:\\n\\n\" + \"\\n\".join(winners)\n",
    "        label.config(text=final_text, font=(\"Arial\", 16), justify=\"left\")\n",
    "\n",
    "# Criar janela\n",
    "root = tk.Tk()\n",
    "root.title(\"Laptop Raffle Draw\")\n",
    "root.geometry(\"500x300\")\n",
    "root.configure(bg=\"#f0f0f0\")\n",
    "\n",
    "label = tk.Label(root, text=\"Drawing Winners...\", font=(\"Arial\", 24), bg=\"#f0f0f0\")\n",
    "label.pack(expand=True)\n",
    "\n",
    "# Iniciar sorteio com atraso de 1 segundo\n",
    "root.after(1000, show_winner_step)\n",
    "\n",
    "root.mainloop()\n"
   ]
  }
 ],
 "metadata": {
  "kernelspec": {
   "display_name": "Python 3 (ipykernel)",
   "language": "python",
   "name": "python3"
  },
  "language_info": {
   "codemirror_mode": {
    "name": "ipython",
    "version": 3
   },
   "file_extension": ".py",
   "mimetype": "text/x-python",
   "name": "python",
   "nbconvert_exporter": "python",
   "pygments_lexer": "ipython3",
   "version": "3.12.7"
  }
 },
 "nbformat": 4,
 "nbformat_minor": 5
}
